{
 "cells": [
  {
   "cell_type": "markdown",
   "metadata": {
    "papermill": {
     "duration": 0.016243,
     "end_time": "2020-10-15T14:25:03.454790",
     "exception": false,
     "start_time": "2020-10-15T14:25:03.438547",
     "status": "completed"
    },
    "tags": []
   },
   "source": [
    "## Import the necessary libraries"
   ]
  },
  {
   "cell_type": "code",
   "execution_count": 1,
   "metadata": {
    "_cell_guid": "79c7e3d0-c299-4dcb-8224-4455121ee9b0",
    "_uuid": "d629ff2d2480ee46fbb7e2d37f6b5fab8052498a",
    "execution": {
     "iopub.execute_input": "2020-10-15T14:25:03.492729Z",
     "iopub.status.busy": "2020-10-15T14:25:03.492052Z",
     "iopub.status.idle": "2020-10-15T14:25:05.411270Z",
     "shell.execute_reply": "2020-10-15T14:25:05.410544Z"
    },
    "papermill": {
     "duration": 1.942258,
     "end_time": "2020-10-15T14:25:05.411387",
     "exception": false,
     "start_time": "2020-10-15T14:25:03.469129",
     "status": "completed"
    },
    "tags": []
   },
   "outputs": [],
   "source": [
    "import pandas as pd\n",
    "import numpy as np\n",
    "import nltk\n",
    "import string\n",
    "import re\n",
    "from sklearn.feature_extraction.text import TfidfVectorizer\n",
    "from sklearn.linear_model import LogisticRegression\n",
    "from sklearn.naive_bayes import MultinomialNB\n",
    "from sklearn.ensemble import RandomForestClassifier, AdaBoostClassifier\n",
    "from sklearn.svm import LinearSVC\n",
    "from sklearn.model_selection import train_test_split\n",
    "from sklearn.naive_bayes import MultinomialNB\n",
    "\n",
    "from sklearn.feature_extraction.text import CountVectorizer\n",
    "from sklearn.metrics import f1_score\n",
    "\n",
    "import seaborn as sns\n",
    "import matplotlib.pyplot as plt\n",
    "%matplotlib inline\n"
   ]
  },
  {
   "cell_type": "markdown",
   "metadata": {
    "papermill": {
     "duration": 0.013678,
     "end_time": "2020-10-15T14:25:05.439519",
     "exception": false,
     "start_time": "2020-10-15T14:25:05.425841",
     "status": "completed"
    },
    "tags": []
   },
   "source": [
    "## Load in your data from kaggle.  \n",
    "By working in a kaggle kernel, you can access the data directly from the competition, as well as make your submission without downloading your output file"
   ]
  },
  {
   "cell_type": "code",
   "execution_count": 2,
   "metadata": {
    "execution": {
     "iopub.execute_input": "2020-10-15T14:25:05.478768Z",
     "iopub.status.busy": "2020-10-15T14:25:05.478153Z",
     "iopub.status.idle": "2020-10-15T14:25:05.565190Z",
     "shell.execute_reply": "2020-10-15T14:25:05.564501Z"
    },
    "papermill": {
     "duration": 0.110432,
     "end_time": "2020-10-15T14:25:05.565302",
     "exception": false,
     "start_time": "2020-10-15T14:25:05.454870",
     "status": "completed"
    },
    "tags": []
   },
   "outputs": [],
   "source": [
    "train = pd.read_csv('../input/climate-change-edsa2020-21/train.csv')\n",
    "test = pd.read_csv('../input/climate-change-edsa2020-21/test.csv')"
   ]
  },
  {
   "cell_type": "code",
   "execution_count": 3,
   "metadata": {
    "execution": {
     "iopub.execute_input": "2020-10-15T14:25:05.608269Z",
     "iopub.status.busy": "2020-10-15T14:25:05.603085Z",
     "iopub.status.idle": "2020-10-15T14:25:05.612169Z",
     "shell.execute_reply": "2020-10-15T14:25:05.611521Z"
    },
    "papermill": {
     "duration": 0.032763,
     "end_time": "2020-10-15T14:25:05.612277",
     "exception": false,
     "start_time": "2020-10-15T14:25:05.579514",
     "status": "completed"
    },
    "tags": []
   },
   "outputs": [
    {
     "data": {
      "text/plain": [
       " 1    8530\n",
       " 2    3640\n",
       " 0    2353\n",
       "-1    1296\n",
       "Name: sentiment, dtype: int64"
      ]
     },
     "execution_count": 3,
     "metadata": {},
     "output_type": "execute_result"
    }
   ],
   "source": [
    "train.sentiment.value_counts()"
   ]
  },
  {
   "cell_type": "markdown",
   "metadata": {
    "papermill": {
     "duration": 0.014086,
     "end_time": "2020-10-15T14:25:05.641127",
     "exception": false,
     "start_time": "2020-10-15T14:25:05.627041",
     "status": "completed"
    },
    "tags": []
   },
   "source": [
    "## Data Pre-processing"
   ]
  },
  {
   "cell_type": "markdown",
   "metadata": {
    "papermill": {
     "duration": 0.014632,
     "end_time": "2020-10-15T14:25:05.670097",
     "exception": false,
     "start_time": "2020-10-15T14:25:05.655465",
     "status": "completed"
    },
    "tags": []
   },
   "source": [
    "import re\n",
    "import nltk\n",
    "from nltk.tokenize import word_tokenize \n",
    "from nltk.corpus import stopwords\n",
    "from nltk.stem import WordNetLemmatizer\n",
    "from nltk.stem import PorterStemmer \n",
    "stop_words = set(stopwords.words('english'))\n",
    "lemma = WordNetLemmatizer()\n",
    "#ps = PorterStemmer() \n",
    "\n",
    "# Create a function to clean the tweets\n",
    "def cleanTxt(text):\n",
    "    #text = re.sub('https?:\\/\\/\\S+', '', text)                 # Removing hyperlink\n",
    "    text = re.sub('@[A-Za-z0–9]+', '', text)                  #Removing @mentions\n",
    "    text = re.sub('[^a-zA-Z]',' ', text)   \n",
    "    text = re.sub('#', '', text)                              # Removing '#' hash tag\n",
    "    text = re.sub('RT[\\s]+', '', text)                        # Removing RT\n",
    "    text = str(text).lower()                                  #convert all characters to lower case\n",
    "    text = word_tokenize(text)                                # Tokenisation\n",
    "    text = [item for item in text if item not in stop_words]  #Removing all stopwords\n",
    "    text = [lemma.lemmatize(word=w,pos='v') for w in text]\n",
    "    text = [i for i in text if len(i)>2]                      # removing words having length <=2 \n",
    "    text = ' '.join(text)                                     #Converting list to string\n",
    "    \n",
    "    return text\n",
    "train['CleanMessage']= train['message'].apply(cleanTxt)\n",
    "train.head(10)"
   ]
  },
  {
   "cell_type": "markdown",
   "metadata": {
    "papermill": {
     "duration": 0.014066,
     "end_time": "2020-10-15T14:25:05.698603",
     "exception": false,
     "start_time": "2020-10-15T14:25:05.684537",
     "status": "completed"
    },
    "tags": []
   },
   "source": [
    "## Splitting out the X variable from the target"
   ]
  },
  {
   "cell_type": "code",
   "execution_count": 4,
   "metadata": {
    "execution": {
     "iopub.execute_input": "2020-10-15T14:25:05.732351Z",
     "iopub.status.busy": "2020-10-15T14:25:05.731668Z",
     "iopub.status.idle": "2020-10-15T14:25:05.734811Z",
     "shell.execute_reply": "2020-10-15T14:25:05.734207Z"
    },
    "papermill": {
     "duration": 0.022013,
     "end_time": "2020-10-15T14:25:05.734924",
     "exception": false,
     "start_time": "2020-10-15T14:25:05.712911",
     "status": "completed"
    },
    "tags": []
   },
   "outputs": [],
   "source": [
    "y = train['sentiment']\n",
    "#X = train['CleanMessage']\n",
    "X= train['message']"
   ]
  },
  {
   "cell_type": "markdown",
   "metadata": {
    "papermill": {
     "duration": 0.014218,
     "end_time": "2020-10-15T14:25:05.763618",
     "exception": false,
     "start_time": "2020-10-15T14:25:05.749400",
     "status": "completed"
    },
    "tags": []
   },
   "source": [
    "## Turning text into something your model can read"
   ]
  },
  {
   "cell_type": "code",
   "execution_count": 5,
   "metadata": {
    "execution": {
     "iopub.execute_input": "2020-10-15T14:25:05.836777Z",
     "iopub.status.busy": "2020-10-15T14:25:05.831851Z",
     "iopub.status.idle": "2020-10-15T14:25:06.236700Z",
     "shell.execute_reply": "2020-10-15T14:25:06.236052Z"
    },
    "papermill": {
     "duration": 0.458606,
     "end_time": "2020-10-15T14:25:06.236835",
     "exception": false,
     "start_time": "2020-10-15T14:25:05.778229",
     "status": "completed"
    },
    "tags": []
   },
   "outputs": [],
   "source": [
    "vectorizer = TfidfVectorizer(ngram_range=(1,2), min_df=2, stop_words=\"english\")\n",
    "vectorizer = TfidfVectorizer()\n",
    "X_vectorized = vectorizer.fit_transform(X)"
   ]
  },
  {
   "cell_type": "markdown",
   "metadata": {
    "papermill": {
     "duration": 0.015188,
     "end_time": "2020-10-15T14:25:06.267112",
     "exception": false,
     "start_time": "2020-10-15T14:25:06.251924",
     "status": "completed"
    },
    "tags": []
   },
   "source": [
    "## Splitting the training data into a training and validation set"
   ]
  },
  {
   "cell_type": "code",
   "execution_count": 6,
   "metadata": {
    "execution": {
     "iopub.execute_input": "2020-10-15T14:25:06.304450Z",
     "iopub.status.busy": "2020-10-15T14:25:06.303330Z",
     "iopub.status.idle": "2020-10-15T14:25:06.795289Z",
     "shell.execute_reply": "2020-10-15T14:25:06.794674Z"
    },
    "papermill": {
     "duration": 0.51306,
     "end_time": "2020-10-15T14:25:06.795418",
     "exception": false,
     "start_time": "2020-10-15T14:25:06.282358",
     "status": "completed"
    },
    "tags": []
   },
   "outputs": [],
   "source": [
    "#X_train,X_test,y_train,y_test = train_test_split(X_vectorized,y,test_size=.30,shuffle=True, stratify=y, random_state=44)\n",
    "from sklearn.model_selection import RepeatedKFold\n",
    "kf = RepeatedKFold(n_splits=10, n_repeats=20, random_state=None) \n",
    "\n",
    "for train_index, test_index in kf.split(X_vectorized):\n",
    "    #print(\"Train:\", train_index, \"Validation:\",test_index)\n",
    "    X_train, X_test = X_vectorized[train_index], X_vectorized[test_index] \n",
    "    y_train, y_test = y[train_index], y[test_index]\n",
    "    "
   ]
  },
  {
   "cell_type": "code",
   "execution_count": 7,
   "metadata": {
    "execution": {
     "iopub.execute_input": "2020-10-15T14:25:06.830561Z",
     "iopub.status.busy": "2020-10-15T14:25:06.829919Z",
     "iopub.status.idle": "2020-10-15T14:25:08.044983Z",
     "shell.execute_reply": "2020-10-15T14:25:08.044282Z"
    },
    "papermill": {
     "duration": 1.2346,
     "end_time": "2020-10-15T14:25:08.045115",
     "exception": false,
     "start_time": "2020-10-15T14:25:06.810515",
     "status": "completed"
    },
    "tags": []
   },
   "outputs": [],
   "source": [
    "from imblearn.over_sampling import SMOTE\n",
    "smote =SMOTE()\n",
    "X_smote,y_smote =smote.fit_sample(X_train,y_train)"
   ]
  },
  {
   "cell_type": "code",
   "execution_count": 8,
   "metadata": {
    "execution": {
     "iopub.execute_input": "2020-10-15T14:25:08.087569Z",
     "iopub.status.busy": "2020-10-15T14:25:08.086537Z",
     "iopub.status.idle": "2020-10-15T14:25:08.091264Z",
     "shell.execute_reply": "2020-10-15T14:25:08.090708Z"
    },
    "papermill": {
     "duration": 0.031228,
     "end_time": "2020-10-15T14:25:08.091381",
     "exception": false,
     "start_time": "2020-10-15T14:25:08.060153",
     "status": "completed"
    },
    "tags": []
   },
   "outputs": [
    {
     "name": "stdout",
     "output_type": "stream",
     "text": [
      "Before smote Counter({1: 7696, 2: 3275, 0: 2104, -1: 1163})\n",
      "after smote Counter({1: 7696, 2: 7696, 0: 7696, -1: 7696})\n"
     ]
    }
   ],
   "source": [
    "from collections import Counter\n",
    "print (\"Before smote\",Counter(y_train))\n",
    "print (\"after smote\",Counter(y_smote))"
   ]
  },
  {
   "cell_type": "markdown",
   "metadata": {
    "papermill": {
     "duration": 0.015416,
     "end_time": "2020-10-15T14:25:08.122519",
     "exception": false,
     "start_time": "2020-10-15T14:25:08.107103",
     "status": "completed"
    },
    "tags": []
   },
   "source": [
    "## Training the model and evaluating using the validation set "
   ]
  },
  {
   "cell_type": "code",
   "execution_count": 9,
   "metadata": {
    "execution": {
     "iopub.execute_input": "2020-10-15T14:25:08.159472Z",
     "iopub.status.busy": "2020-10-15T14:25:08.158822Z",
     "iopub.status.idle": "2020-10-15T14:27:32.211419Z",
     "shell.execute_reply": "2020-10-15T14:27:32.210673Z"
    },
    "papermill": {
     "duration": 144.073294,
     "end_time": "2020-10-15T14:27:32.211547",
     "exception": false,
     "start_time": "2020-10-15T14:25:08.138253",
     "status": "completed"
    },
    "tags": []
   },
   "outputs": [],
   "source": [
    "rfc = RandomForestClassifier(n_estimators=200, random_state=44)\n",
    "rfc.fit(X_smote, y_smote)\n",
    "rfc_pred = rfc.predict(X_test)"
   ]
  },
  {
   "cell_type": "markdown",
   "metadata": {
    "papermill": {
     "duration": 0.015176,
     "end_time": "2020-10-15T14:27:32.242371",
     "exception": false,
     "start_time": "2020-10-15T14:27:32.227195",
     "status": "completed"
    },
    "tags": []
   },
   "source": [
    "## Checking the performance of our model on the validation set"
   ]
  },
  {
   "cell_type": "code",
   "execution_count": 10,
   "metadata": {
    "execution": {
     "iopub.execute_input": "2020-10-15T14:27:32.278933Z",
     "iopub.status.busy": "2020-10-15T14:27:32.278283Z",
     "iopub.status.idle": "2020-10-15T14:27:32.284463Z",
     "shell.execute_reply": "2020-10-15T14:27:32.283998Z"
    },
    "papermill": {
     "duration": 0.026717,
     "end_time": "2020-10-15T14:27:32.284577",
     "exception": false,
     "start_time": "2020-10-15T14:27:32.257860",
     "status": "completed"
    },
    "tags": []
   },
   "outputs": [
    {
     "data": {
      "text/plain": [
       "0.6245499365100469"
      ]
     },
     "execution_count": 10,
     "metadata": {},
     "output_type": "execute_result"
    }
   ],
   "source": [
    "f1_score(y_test, rfc_pred,average=\"macro\")"
   ]
  },
  {
   "cell_type": "code",
   "execution_count": 11,
   "metadata": {
    "execution": {
     "iopub.execute_input": "2020-10-15T14:27:32.321477Z",
     "iopub.status.busy": "2020-10-15T14:27:32.320848Z",
     "iopub.status.idle": "2020-10-15T14:27:32.331382Z",
     "shell.execute_reply": "2020-10-15T14:27:32.330381Z"
    },
    "papermill": {
     "duration": 0.031156,
     "end_time": "2020-10-15T14:27:32.331547",
     "exception": false,
     "start_time": "2020-10-15T14:27:32.300391",
     "status": "completed"
    },
    "tags": []
   },
   "outputs": [
    {
     "name": "stdout",
     "output_type": "stream",
     "text": [
      "              precision    recall  f1-score   support\n",
      "\n",
      "          -1       0.85      0.25      0.38       133\n",
      "           0       0.67      0.47      0.55       249\n",
      "           1       0.73      0.86      0.79       834\n",
      "           2       0.75      0.79      0.77       365\n",
      "\n",
      "    accuracy                           0.73      1581\n",
      "   macro avg       0.75      0.59      0.62      1581\n",
      "weighted avg       0.74      0.73      0.72      1581\n",
      "\n"
     ]
    }
   ],
   "source": [
    "from sklearn.metrics import classification_report, confusion_matrix, accuracy_score\n",
    "#print(confusion_matrix(y_val, rfc_pred))\n",
    "print(classification_report(y_test, rfc_pred))\n",
    "#print(accuracy_score(y_val, rfc_pred))"
   ]
  },
  {
   "cell_type": "markdown",
   "metadata": {
    "papermill": {
     "duration": 0.01649,
     "end_time": "2020-10-15T14:27:32.365220",
     "exception": false,
     "start_time": "2020-10-15T14:27:32.348730",
     "status": "completed"
    },
    "tags": []
   },
   "source": [
    "## Getting our test set ready "
   ]
  },
  {
   "cell_type": "code",
   "execution_count": 12,
   "metadata": {
    "execution": {
     "iopub.execute_input": "2020-10-15T14:27:32.423034Z",
     "iopub.status.busy": "2020-10-15T14:27:32.412702Z",
     "iopub.status.idle": "2020-10-15T14:27:32.627172Z",
     "shell.execute_reply": "2020-10-15T14:27:32.626490Z"
    },
    "papermill": {
     "duration": 0.245814,
     "end_time": "2020-10-15T14:27:32.627282",
     "exception": false,
     "start_time": "2020-10-15T14:27:32.381468",
     "status": "completed"
    },
    "tags": []
   },
   "outputs": [],
   "source": [
    "testx = test['message']\n",
    "test_vect = vectorizer.transform(testx)"
   ]
  },
  {
   "cell_type": "markdown",
   "metadata": {
    "papermill": {
     "duration": 0.016097,
     "end_time": "2020-10-15T14:27:32.659964",
     "exception": false,
     "start_time": "2020-10-15T14:27:32.643867",
     "status": "completed"
    },
    "tags": []
   },
   "source": [
    "## Making predictions on the test set and adding a sentiment column to our original test df"
   ]
  },
  {
   "cell_type": "code",
   "execution_count": 13,
   "metadata": {
    "execution": {
     "iopub.execute_input": "2020-10-15T14:27:32.697445Z",
     "iopub.status.busy": "2020-10-15T14:27:32.696723Z",
     "iopub.status.idle": "2020-10-15T14:27:33.903461Z",
     "shell.execute_reply": "2020-10-15T14:27:33.902495Z"
    },
    "papermill": {
     "duration": 1.227174,
     "end_time": "2020-10-15T14:27:33.903615",
     "exception": false,
     "start_time": "2020-10-15T14:27:32.676441",
     "status": "completed"
    },
    "tags": []
   },
   "outputs": [],
   "source": [
    "y_pred = rfc.predict(test_vect)"
   ]
  },
  {
   "cell_type": "code",
   "execution_count": 14,
   "metadata": {
    "execution": {
     "iopub.execute_input": "2020-10-15T14:27:33.952582Z",
     "iopub.status.busy": "2020-10-15T14:27:33.951782Z",
     "iopub.status.idle": "2020-10-15T14:27:33.959782Z",
     "shell.execute_reply": "2020-10-15T14:27:33.960252Z"
    },
    "papermill": {
     "duration": 0.033782,
     "end_time": "2020-10-15T14:27:33.960399",
     "exception": false,
     "start_time": "2020-10-15T14:27:33.926617",
     "status": "completed"
    },
    "tags": []
   },
   "outputs": [
    {
     "data": {
      "text/html": [
       "<div>\n",
       "<style scoped>\n",
       "    .dataframe tbody tr th:only-of-type {\n",
       "        vertical-align: middle;\n",
       "    }\n",
       "\n",
       "    .dataframe tbody tr th {\n",
       "        vertical-align: top;\n",
       "    }\n",
       "\n",
       "    .dataframe thead th {\n",
       "        text-align: right;\n",
       "    }\n",
       "</style>\n",
       "<table border=\"1\" class=\"dataframe\">\n",
       "  <thead>\n",
       "    <tr style=\"text-align: right;\">\n",
       "      <th></th>\n",
       "      <th>message</th>\n",
       "      <th>tweetid</th>\n",
       "      <th>sentiment</th>\n",
       "    </tr>\n",
       "  </thead>\n",
       "  <tbody>\n",
       "    <tr>\n",
       "      <th>0</th>\n",
       "      <td>Europe will now be looking to China to make su...</td>\n",
       "      <td>169760</td>\n",
       "      <td>1</td>\n",
       "    </tr>\n",
       "    <tr>\n",
       "      <th>1</th>\n",
       "      <td>Combine this with the polling of staffers re c...</td>\n",
       "      <td>35326</td>\n",
       "      <td>1</td>\n",
       "    </tr>\n",
       "    <tr>\n",
       "      <th>2</th>\n",
       "      <td>The scary, unimpeachable evidence that climate...</td>\n",
       "      <td>224985</td>\n",
       "      <td>1</td>\n",
       "    </tr>\n",
       "    <tr>\n",
       "      <th>3</th>\n",
       "      <td>@Karoli @morgfair @OsborneInk @dailykos \\nPuti...</td>\n",
       "      <td>476263</td>\n",
       "      <td>1</td>\n",
       "    </tr>\n",
       "    <tr>\n",
       "      <th>4</th>\n",
       "      <td>RT @FakeWillMoore: 'Female orgasms cause globa...</td>\n",
       "      <td>872928</td>\n",
       "      <td>0</td>\n",
       "    </tr>\n",
       "  </tbody>\n",
       "</table>\n",
       "</div>"
      ],
      "text/plain": [
       "                                             message  tweetid  sentiment\n",
       "0  Europe will now be looking to China to make su...   169760          1\n",
       "1  Combine this with the polling of staffers re c...    35326          1\n",
       "2  The scary, unimpeachable evidence that climate...   224985          1\n",
       "3  @Karoli @morgfair @OsborneInk @dailykos \\nPuti...   476263          1\n",
       "4  RT @FakeWillMoore: 'Female orgasms cause globa...   872928          0"
      ]
     },
     "execution_count": 14,
     "metadata": {},
     "output_type": "execute_result"
    }
   ],
   "source": [
    "test['sentiment'] = y_pred\n",
    "test.head()"
   ]
  },
  {
   "cell_type": "markdown",
   "metadata": {
    "papermill": {
     "duration": 0.016908,
     "end_time": "2020-10-15T14:27:33.994724",
     "exception": false,
     "start_time": "2020-10-15T14:27:33.977816",
     "status": "completed"
    },
    "tags": []
   },
   "source": [
    "## Creating an output csv for submission"
   ]
  },
  {
   "cell_type": "code",
   "execution_count": 15,
   "metadata": {
    "execution": {
     "iopub.execute_input": "2020-10-15T14:27:34.045074Z",
     "iopub.status.busy": "2020-10-15T14:27:34.044118Z",
     "iopub.status.idle": "2020-10-15T14:27:34.402554Z",
     "shell.execute_reply": "2020-10-15T14:27:34.401846Z"
    },
    "papermill": {
     "duration": 0.390417,
     "end_time": "2020-10-15T14:27:34.402679",
     "exception": false,
     "start_time": "2020-10-15T14:27:34.012262",
     "status": "completed"
    },
    "tags": []
   },
   "outputs": [],
   "source": [
    "test[['tweetid','sentiment']].to_csv('testsubmission.csv', index=False)"
   ]
  },
  {
   "cell_type": "code",
   "execution_count": null,
   "metadata": {
    "papermill": {
     "duration": 0.018003,
     "end_time": "2020-10-15T14:27:34.438684",
     "exception": false,
     "start_time": "2020-10-15T14:27:34.420681",
     "status": "completed"
    },
    "tags": []
   },
   "outputs": [],
   "source": []
  },
  {
   "cell_type": "code",
   "execution_count": null,
   "metadata": {
    "papermill": {
     "duration": 0.017196,
     "end_time": "2020-10-15T14:27:34.473608",
     "exception": false,
     "start_time": "2020-10-15T14:27:34.456412",
     "status": "completed"
    },
    "tags": []
   },
   "outputs": [],
   "source": []
  }
 ],
 "metadata": {
  "kernelspec": {
   "display_name": "Python 3",
   "language": "python",
   "name": "python3"
  },
  "language_info": {
   "codemirror_mode": {
    "name": "ipython",
    "version": 3
   },
   "file_extension": ".py",
   "mimetype": "text/x-python",
   "name": "python",
   "nbconvert_exporter": "python",
   "pygments_lexer": "ipython3",
   "version": "3.7.6"
  },
  "papermill": {
   "duration": 155.634259,
   "end_time": "2020-10-15T14:27:34.606685",
   "environment_variables": {},
   "exception": null,
   "input_path": "__notebook__.ipynb",
   "output_path": "__notebook__.ipynb",
   "parameters": {},
   "start_time": "2020-10-15T14:24:58.972426",
   "version": "2.1.0"
  }
 },
 "nbformat": 4,
 "nbformat_minor": 4
}
